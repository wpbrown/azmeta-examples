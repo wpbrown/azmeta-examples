{
 "cells": [
  {
   "cell_type": "code",
   "execution_count": null,
   "metadata": {},
   "outputs": [],
   "source": [
    "import azmeta.notebook.interactive as azmi\n",
    "import pandas as pd\n",
    "azmi.connect_kqlmagic()"
   ]
  },
  {
   "cell_type": "markdown",
   "metadata": {},
   "source": [
    "# Parameters"
   ]
  },
  {
   "cell_type": "code",
   "execution_count": null,
   "metadata": {},
   "outputs": [],
   "source": [
    "location = 'EastUS2'"
   ]
  },
  {
   "cell_type": "code",
   "execution_count": null,
   "metadata": {},
   "outputs": [],
   "source": [
    "%%kql -ecbp\n",
    "let last5bills = (Usage | distinct BillingPeriodStartDate | top 5 by BillingPeriodStartDate);\n",
    "Usage\n",
    "| where BillingPeriodStartDate in (last5bills)\n",
    "| {azmeta_kql_usage_scope}\n",
    "| where ConsumedService == 'Microsoft.Compute' and MeterCategory == 'Virtual Machines' and isempty(ReservationId)\n",
    "| summarize sum(Cost) by BillingPeriodStartDate, MeterSubCategory\n",
    "| evaluate pivot(MeterSubCategory, sum(sum_Cost))\n",
    "| extend BillingPeriodStartDate = format_datetime(BillingPeriodStartDate, 'yyyy-MM')\n",
    "| sort by BillingPeriodStartDate asc\n",
    "| render columnchart with (ytitle=\"$\", xtitle=\"Billing Period\", title=\"Unreserved VM Usage by Series: Past 5 Bills\")"
   ]
  },
  {
   "cell_type": "code",
   "execution_count": null,
   "metadata": {},
   "outputs": [],
   "source": [
    "%%kql rs << -ecbp\n",
    "let latestBill = toscalar(Usage | summarize max(BillingPeriodStartDate));\n",
    "Usage\n",
    "| where BillingPeriodStartDate == latestBill\n",
    "| {azmeta_kql_usage_scope}\n",
    "| where ConsumedService == 'Microsoft.Compute' and MeterCategory == 'Virtual Machines' and isempty(ReservationId)\n",
    "| summarize sum(Cost) by ResourceLocation, MeterSubCategory\n",
    "| evaluate pivot(ResourceLocation, sum(sum_Cost))"
   ]
  },
  {
   "cell_type": "code",
   "execution_count": null,
   "metadata": {},
   "outputs": [],
   "source": [
    "df: pd.DataFrame = rs.to_dataframe().set_index('MeterSubCategory')\n",
    "df.style.background_gradient().format(\"${:,.2f}\")"
   ]
  },
  {
   "cell_type": "code",
   "execution_count": null,
   "metadata": {},
   "outputs": [],
   "source": [
    "%%kql rs << -ecbp\n",
    "let _location = location;\n",
    "let latestBill = toscalar(Usage | summarize max(BillingPeriodStartDate));\n",
    "Usage\n",
    "| where BillingPeriodStartDate == latestBill and ResourceLocation == _location\n",
    "| {azmeta_kql_usage_scope}\n",
    "| where ConsumedService == 'Microsoft.Compute' and MeterCategory == 'Virtual Machines' and isempty(ReservationId)\n",
    "| summarize sum(Cost) by SubscriptionName, MeterSubCategory\n",
    "| evaluate pivot(SubscriptionName, sum(sum_Cost))"
   ]
  },
  {
   "cell_type": "code",
   "execution_count": null,
   "metadata": {},
   "outputs": [],
   "source": [
    "df: pd.DataFrame = rs.to_dataframe().set_index('MeterSubCategory')\n",
    "df.style.background_gradient().format(\"${:,.2f}\")"
   ]
  },
  {
   "cell_type": "code",
   "execution_count": null,
   "metadata": {},
   "outputs": [],
   "source": [
    "%%kql rs << -ecbp\n",
    "let latestBill = toscalar(Usage | summarize max(BillingPeriodStartDate));\n",
    "Usage\n",
    "| where BillingPeriodStartDate == latestBill\n",
    "| {azmeta_kql_usage_scope}\n",
    "| where ConsumedService == 'Microsoft.Compute' and MeterCategory == 'Virtual Machines' and isempty(ReservationId)\n",
    "| summarize Cost=sum(Cost) by ResourceLocation, SubscriptionName, MeterSubCategory\n",
    "| top 20 by Cost"
   ]
  },
  {
   "cell_type": "code",
   "execution_count": null,
   "metadata": {},
   "outputs": [],
   "source": [
    "df: pd.DataFrame = rs.to_dataframe()\n",
    "df.style.background_gradient(subset='Cost').format(\"${:,.2f}\", subset='Cost')"
   ]
  }
 ],
 "metadata": {
  "kernelspec": {
   "display_name": "azmeta-project",
   "language": "python",
   "name": "azmeta-project"
  },
  "language_info": {
   "codemirror_mode": {
    "name": "ipython",
    "version": 3
   },
   "file_extension": ".py",
   "mimetype": "text/x-python",
   "name": "python",
   "nbconvert_exporter": "python",
   "pygments_lexer": "ipython3",
   "version": "3.7.5"
  }
 },
 "nbformat": 4,
 "nbformat_minor": 4
}