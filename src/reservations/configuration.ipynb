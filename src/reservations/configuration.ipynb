{
 "cells": [
  {
   "cell_type": "code",
   "execution_count": null,
   "metadata": {},
   "outputs": [],
   "source": [
    "from azmeta.access import resource_graph, reservations, list_subscription_ids, resource_id\n",
    "from azmeta.notebook.context import AzureCliContext\n",
    "import pandas as pd\n",
    "import csv"
   ]
  },
  {
   "cell_type": "markdown",
   "metadata": {},
   "source": [
    "# Parameters"
   ]
  },
  {
   "cell_type": "code",
   "execution_count": null,
   "metadata": {},
   "outputs": [],
   "source": [
    "arm_location = \"westeurope\""
   ]
  },
  {
   "cell_type": "markdown",
   "metadata": {},
   "source": [
    "## Load RI Family Data"
   ]
  },
  {
   "cell_type": "code",
   "execution_count": null,
   "metadata": {},
   "outputs": [],
   "source": [
    "flex_families = pd.read_csv(\"ISFRatio.csv\")\n",
    "flex_families = flex_families.assign(ArmSkuName=flex_families.ArmSkuName.str.lower()).set_index('ArmSkuName')"
   ]
  },
  {
   "cell_type": "markdown",
   "metadata": {},
   "source": [
    "# Pull Resources"
   ]
  },
  {
   "cell_type": "code",
   "execution_count": null,
   "metadata": {},
   "outputs": [],
   "source": [
    "context = AzureCliContext()\n",
    "all_subscription_ids = list_subscription_ids(context.subscriptions)\n",
    "vms = resource_graph.query_dataframe(all_subscription_ids, f\"\"\"\n",
    "Resources \n",
    "| where type == 'microsoft.compute/virtualmachines' and location == '{arm_location}'\n",
    "| join kind=leftouter (ResourceContainers | where type == 'microsoft.resources/subscriptions' | project subscriptionName=name, subscriptionId) on subscriptionId\n",
    "| extend vmSize = tolower(properties.hardwareProfile.vmSize)\n",
    "| summarize instanceCount=count() by subscriptionId, subscriptionName, vmSize\n",
    "| order by subscriptionName asc\n",
    "\"\"\")"
   ]
  },
  {
   "cell_type": "code",
   "execution_count": null,
   "metadata": {},
   "outputs": [],
   "source": [
    "flex_vms = vms.join(flex_families, on='vmSize')\n",
    "flex_vms = flex_vms.assign(InstanceSizeFlexibilityGroup=flex_vms.InstanceSizeFlexibilityGroup.fillna('NO_FAMILY')) \\\n",
    "                   .assign(Ratio=flex_vms.Ratio.fillna(1.0))\n",
    "flex_vms = flex_vms.assign(normalizedUnits=flex_vms.instanceCount * flex_vms.Ratio)\n",
    "sub_names = flex_vms.filter(['subscriptionId', 'subscriptionName']).drop_duplicates().set_index('subscriptionId')\n",
    "flex_vms.style.hide_index()"
   ]
  },
  {
   "cell_type": "code",
   "execution_count": null,
   "metadata": {},
   "outputs": [],
   "source": [
    "flex_vms_by_sub_group = flex_vms.drop(columns=['instanceCount', 'Ratio', 'vmSize']).groupby(['subscriptionName', 'InstanceSizeFlexibilityGroup'], as_index=False).sum() \n",
    "flex_vms_by_sub_group.style.hide_index()"
   ]
  },
  {
   "cell_type": "markdown",
   "metadata": {},
   "source": [
    "# Pull Reservations"
   ]
  },
  {
   "cell_type": "code",
   "execution_count": null,
   "metadata": {},
   "outputs": [],
   "source": [
    "raw_reservations = reservations.reservations_dataframe()"
   ]
  },
  {
   "cell_type": "code",
   "execution_count": null,
   "metadata": {},
   "outputs": [],
   "source": [
    "raw_reservations = raw_reservations[raw_reservations.provisioning_state == \"Succeeded\"]\n",
    "if len(raw_reservations[(raw_reservations.applied_scope_type != 'Single') | (raw_reservations.applied_scopes.map(lambda x: len(x)) != 1)]):\n",
    "    raise 'Unsupported'\n",
    "raw_reservations = raw_reservations \\\n",
    "    .assign(subscriptionId=raw_reservations.applied_scopes.map(lambda x: resource_id.subscription_id(x[0]))) \\\n",
    "    .assign(sku=raw_reservations.sku.str.lower()) \\\n",
    "    .drop(columns='name') \\\n",
    "    .rename(columns={'sku': 'vmSize', 'display_name': 'name'}) \\\n",
    "    .filter(['vmSize', 'quantity', 'subscriptionId', 'name'])"
   ]
  },
  {
   "cell_type": "code",
   "execution_count": null,
   "metadata": {},
   "outputs": [],
   "source": [
    "flex_reservations = raw_reservations.join(flex_families, on='vmSize')\n",
    "flex_reservations = flex_reservations.assign(normalizedUnits=flex_reservations.quantity * flex_reservations.Ratio)\n",
    "flex_reservations[flex_reservations.subscriptionId.isin(sub_names.index)].sort_values('name').style.hide_index()"
   ]
  },
  {
   "cell_type": "code",
   "execution_count": null,
   "metadata": {},
   "outputs": [],
   "source": [
    "flex_reservations_by_sub_group = flex_reservations.drop(columns=['quantity', 'Ratio', 'vmSize']).groupby(['subscriptionId', 'InstanceSizeFlexibilityGroup'], as_index=False).agg({'normalizedUnits': 'sum', 'name': lambda s: '<br/>'.join(s)})\n",
    "flex_reservations_by_sub_group = flex_reservations_by_sub_group.join(sub_names, on='subscriptionId', how='inner').drop(columns='subscriptionId')\n",
    "display(flex_reservations_by_sub_group[['subscriptionName', 'InstanceSizeFlexibilityGroup', 'normalizedUnits', 'name']].style)\n",
    "flex_reservations_by_sub_group = flex_reservations_by_sub_group.drop(columns='name')"
   ]
  },
  {
   "cell_type": "code",
   "execution_count": null,
   "metadata": {},
   "outputs": [],
   "source": [
    "flex_reservations_by_sub_group.style"
   ]
  },
  {
   "cell_type": "markdown",
   "metadata": {},
   "source": [
    "# Report Out"
   ]
  },
  {
   "cell_type": "code",
   "execution_count": null,
   "metadata": {},
   "outputs": [],
   "source": [
    "left=flex_vms_by_sub_group.set_index(['subscriptionName', 'InstanceSizeFlexibilityGroup'])\n",
    "right=flex_reservations_by_sub_group.set_index(['subscriptionName', 'InstanceSizeFlexibilityGroup'])\n",
    "report = left.join(right, rsuffix='Reserved', how='outer')\n",
    "report = report.assign(reservationShortage=report.normalizedUnits.fillna(0.0) - report.normalizedUnitsReserved.fillna(0.0))\n",
    "report.style.background_gradient(subset='reservationShortage').format('{:g}', na_rep='0')"
   ]
  },
  {
   "cell_type": "code",
   "execution_count": null,
   "metadata": {},
   "outputs": [],
   "source": [
    "report.swaplevel(0,1).sort_index().style.background_gradient(subset='reservationShortage').format('{:g}', na_rep='0')"
   ]
  }
 ],
 "metadata": {
  "kernelspec": {
   "display_name": "azmeta-project",
   "language": "python",
   "name": "azmeta-project"
  },
  "language_info": {
   "codemirror_mode": {
    "name": "ipython",
    "version": 3
   },
   "file_extension": ".py",
   "mimetype": "text/x-python",
   "name": "python",
   "nbconvert_exporter": "python",
   "pygments_lexer": "ipython3",
   "version": "3.7.5"
  }
 },
 "nbformat": 4,
 "nbformat_minor": 4
}