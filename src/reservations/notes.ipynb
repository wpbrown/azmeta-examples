{
 "cells": [
  {
   "cell_type": "markdown",
   "metadata": {},
   "source": [
    "# Reserved Instance Constraints\n",
    "\n",
    "## Immediate Flexibility\n",
    "\n",
    "* SKU within Family (with flexibility option enabled)\n",
    "* Scope: Change single subscription targeted\n",
    "\n",
    "## Split Flexibility\n",
    "\n",
    "* Scope: Change two subscriptions targeted\n",
    "\n",
    "## Exchange Flexibility\n",
    "\n",
    "* Family\n",
    "* Region\n",
    "* Term\n",
    "\n",
    "## Refund Flexibility\n",
    "\n",
    "* Limited to 50K in 12-mo rolling window\n",
    "* Possible 12% early termination fee\n",
    "\n",
    "## No Flexibility\n",
    "\n",
    "* Purchased Value over 50K in 12-mo rolling window\n",
    "* Resource Type"
   ]
  },
  {
   "cell_type": "markdown",
   "metadata": {},
   "source": [
    "# Strategic Planning\n",
    "\n",
    "* Note the resource type constraint. Don't tie up funds in VMs that can not be exchanged for PaaS services.\n",
    "  * Consider the long-term outlook on PaaS migrations.\n",
    "* Consolidate and standarize use of SKUs."
   ]
  },
  {
   "cell_type": "code",
   "execution_count": null,
   "metadata": {},
   "outputs": [],
   "source": []
  }
 ],
 "metadata": {
  "kernelspec": {
   "display_name": "azmeta-project",
   "language": "python",
   "name": "azmeta-project"
  },
  "language_info": {
   "codemirror_mode": {
    "name": "ipython",
    "version": 3
   },
   "file_extension": ".py",
   "mimetype": "text/x-python",
   "name": "python",
   "nbconvert_exporter": "python",
   "pygments_lexer": "ipython3",
   "version": "3.7.5"
  }
 },
 "nbformat": 4,
 "nbformat_minor": 4
}
