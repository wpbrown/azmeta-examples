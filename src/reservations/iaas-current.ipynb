{
 "cells": [
  {
   "cell_type": "code",
   "execution_count": null,
   "metadata": {},
   "outputs": [],
   "source": [
    "from azmeta.access import reservations, resource_id\n",
    "import azmeta.notebook.interactive as azmi\n",
    "import pandas as pd\n",
    "from datetime import datetime,timezone,timedelta\n",
    "azmi.connect_kqlmagic()"
   ]
  },
  {
   "cell_type": "code",
   "execution_count": null,
   "metadata": {},
   "outputs": [],
   "source": [
    "%%kql\n",
    "let last5bills = (Usage | distinct BillingPeriodStartDate | top 5 by BillingPeriodStartDate);\n",
    "Usage\n",
    "| where BillingPeriodStartDate in (last5bills)\n",
    "| where AccountName == 'DevOps Teams (652030-10500339)' \n",
    "    and ((ConsumedService == 'Microsoft.Compute' and MeterCategory in ('Storage', 'Virtual Machines'))\n",
    "    or (ConsumedService == 'Microsoft.Storage' and MeterSubCategory contains 'Page Blob'))\n",
    "| extend Type = strcat(MeterCategory, '-', case(isempty(ReservationId), 'PAYG', 'Reserved'))\n",
    "| summarize sum(Cost) by BillingPeriodStartDate, Type\n",
    "| evaluate pivot(Type, sum(sum_Cost))\n",
    "| extend BillingPeriodStartDate = format_datetime(BillingPeriodStartDate, 'yyyy-MM')\n",
    "| sort by BillingPeriodStartDate asc\n",
    "| render columnchart with (ytitle=\"$\", xtitle=\"Billing Period\", title=\"IaaS Cost Reserved vs Unreserved: Past 5 Bills\")"
   ]
  },
  {
   "cell_type": "code",
   "execution_count": null,
   "metadata": {},
   "outputs": [],
   "source": [
    "%%kql -pl={\"barmode\":\"stack\"}\n",
    "let last5bills = Usage \n",
    "    | distinct BillingPeriodStartDate \n",
    "    | top 10 by BillingPeriodStartDate;\n",
    "let unused = Usage\n",
    "    | where BillingPeriodStartDate in (last5bills)\n",
    "    | where ChargeType == 'UnusedReservation';\n",
    "let top4locs = unused\n",
    "    | summarize cost=sum(Cost) by ResourceLocation\n",
    "    | top 4 by cost\n",
    "    | project ResourceLocation;\n",
    "unused\n",
    "| summarize sum(Cost) by location=iif(ResourceLocation in (top4locs), tolower(ResourceLocation), '_other'), BillingPeriodStartDate\n",
    "| extend BillingPeriodStartDate = format_datetime(BillingPeriodStartDate, 'yyyy-MM')\n",
    "| order by BillingPeriodStartDate asc, location desc\n",
    "| render columnchart with (kind=stacked,xcolumn=BillingPeriodStartDate,title='Unused Reservation Cost by Region: Past 10 Bills',xtitle='Billing Period', ytitle='$')"
   ]
  },
  {
   "cell_type": "code",
   "execution_count": null,
   "metadata": {},
   "outputs": [],
   "source": [
    "%%kql -pl={\"barmode\":\"stack\"}\n",
    "let last5Bills = (Usage | distinct BillingPeriodStartDate | top 5 by BillingPeriodStartDate);\n",
    "let inScopeReservations = materialize(Usage\n",
    "| where BillingPeriodStartDate in (last5Bills)\n",
    "| where ChargeType == \"UnusedReservation\"\n",
    "| summarize cost=sum(Cost) by ReservationId\n",
    "| top 10 by cost\n",
    "| project ReservationId);\n",
    "let topOffenders = materialize(Usage\n",
    "| where BillingPeriodStartDate in (last5Bills)\n",
    "| where ReservationId in (inScopeReservations)\n",
    "| summarize cost=sum(Cost) by ReservationName, ChargeType\n",
    "| order by cost desc);\n",
    "topOffenders\n",
    "| where ChargeType == 'Usage'\n",
    "| join kind=leftouter (topOffenders | where ChargeType == 'UnusedReservation' | project-rename sortCost=cost) on ReservationName\n",
    "| union (topOffenders | where ChargeType == 'UnusedReservation' | extend sortCost = cost)\n",
    "| order by sortCost asc\n",
    "| project ReservationName, ChargeType, cost\n",
    "| render barchart with (kind=stacked,title=\"Top 10 Most Underused Reservations: Accumulated Past 5 Bills\")"
   ]
  },
  {
   "cell_type": "code",
   "execution_count": null,
   "metadata": {},
   "outputs": [],
   "source": [
    "%%kql topids <<\n",
    "let last5Bills = (Usage | distinct BillingPeriodStartDate | top 5 by BillingPeriodStartDate);\n",
    "let top10res = Usage\n",
    "| where BillingPeriodStartDate in (last5Bills)\n",
    "| where ChargeType == \"UnusedReservation\"\n",
    "| summarize UnusedCost=sum(Cost) by ReservationId\n",
    "| top 10 by UnusedCost\n",
    "| project ReservationId;\n",
    "Usage\n",
    "| where ReservationId in (top10res)\n",
    "| where ChargeType == \"UnusedReservation\"\n",
    "| summarize unused_cost=sum(Cost) by ReservationId, ReservationName\n",
    "| top 10 by unused_cost"
   ]
  },
  {
   "cell_type": "code",
   "execution_count": null,
   "metadata": {},
   "outputs": [],
   "source": [
    "top_ids_df = topids.to_dataframe()\n",
    "reservations_df = reservations.reservations_dataframe()\n",
    "reservations_df = reservations_df[reservations_df.provisioning_state == \"Succeeded\"]\n",
    "if len(reservations_df[(reservations_df.applied_scope_type != 'Single') | (reservations_df.applied_scopes.map(lambda x: len(x)) != 1)]):\n",
    "    raise 'Unsupported'\n",
    "now = pd.Timestamp.utcnow()\n",
    "reservations_df = reservations_df \\\n",
    "    .assign(subscription_id=reservations_df.applied_scopes.map(lambda x: resource_id.subscription_id(x[0]))) \\\n",
    "    .assign(term_used=(now - reservations_df.effective_date_time)/reservations_df.term) \\\n",
    "    .assign(reservation_id=reservations_df.name.str.split('/', expand=True)[1])\n",
    "\n",
    "reservations_df = reservations_df[reservations_df.reservation_id.isin(top_ids_df.ReservationId)].set_index('reservation_id')"
   ]
  },
  {
   "cell_type": "code",
   "execution_count": null,
   "metadata": {},
   "outputs": [],
   "source": [
    "top_res = reservations_df.join(topids.to_dataframe().set_index('ReservationId'), how='outer').sort_values('unused_cost', ascending=False)\n",
    "top_res = top_res.assign(name=top_res.display_name.fillna(top_res.ReservationName)).drop(columns='ReservationName')\n",
    "top_res[['name', 'location', 'sku', 'quantity', 'instance_flexibility', 'term', 'term_used', 'unused_cost']].assign(term=top_res.term/pd.Timedelta('365D')).style.hide_index().format('{}', na_rep='').format('${:,.2f}', subset='unused_cost').format('{:g}Y', na_rep='', subset='term').format('{:.0%}', na_rep='', subset='term_used').background_gradient(subset='unused_cost')"
   ]
  },
  {
   "cell_type": "code",
   "execution_count": null,
   "metadata": {},
   "outputs": [],
   "source": []
  }
 ],
 "metadata": {
  "kernelspec": {
   "display_name": "azmeta-project",
   "language": "python",
   "name": "azmeta-project"
  },
  "language_info": {
   "codemirror_mode": {
    "name": "ipython",
    "version": 3
   },
   "file_extension": ".py",
   "mimetype": "text/x-python",
   "name": "python",
   "nbconvert_exporter": "python",
   "pygments_lexer": "ipython3",
   "version": "3.7.5"
  }
 },
 "nbformat": 4,
 "nbformat_minor": 4
}