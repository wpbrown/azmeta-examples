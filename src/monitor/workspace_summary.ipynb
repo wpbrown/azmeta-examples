{
 "cells": [
  {
   "cell_type": "markdown",
   "metadata": {},
   "source": [
    "# Azure Monitor Log Analytics Workspace Summary\n",
    "\n",
    "Get a birds-eye view of the utilization and cost of your Log Analytics workspaces. "
   ]
  },
  {
   "cell_type": "markdown",
   "metadata": {},
   "source": [
    "## Parameters\n",
    "\n",
    "**resource_filter**: Optional KQL where clause to limit Azure Monitor workspace resources in scope."
   ]
  },
  {
   "cell_type": "code",
   "execution_count": null,
   "metadata": {
    "tags": [
     "parameters"
    ]
   },
   "outputs": [],
   "source": [
    "resource_filter = None"
   ]
  },
  {
   "cell_type": "markdown",
   "metadata": {},
   "source": [
    "## Setup"
   ]
  },
  {
   "cell_type": "code",
   "execution_count": null,
   "metadata": {},
   "outputs": [],
   "source": [
    "from azmeta.access import resource_graph, monitor_logs, list_subscription_ids\n",
    "from azmeta.access.billing import full_day_timespan, create_basic_filter, create_cost_query, GroupByColumn, GranularityType, query_cost_dataframe\n",
    "from azmeta.access.kusto import serialize_to_kql\n",
    "import azmeta.notebook.interactive as azmi\n",
    "import pandas as pd\n",
    "import itertools\n",
    "from datetime import datetime, timedelta"
   ]
  },
  {
   "cell_type": "markdown",
   "metadata": {},
   "source": [
    "# Log Analytics Workspace Selection\n",
    "\n",
    "Retrieve all the workspaces selected for analysis using Azure Resource Graph."
   ]
  },
  {
   "cell_type": "code",
   "execution_count": null,
   "metadata": {},
   "outputs": [],
   "source": [
    "context = azmi.resource_context()\n",
    "all_subscription_ids = list_subscription_ids(context.subscriptions)\n",
    "workspaces = resource_graph.query_dataframe(all_subscription_ids, f\"\"\"\n",
    "Resources \n",
    "| where type == 'microsoft.operationalinsights/workspaces'\n",
    "| where {resource_filter if resource_filter else \"1 == 1\"}\n",
    "| join kind=leftouter (ResourceContainers | where type == 'microsoft.resources/subscriptions' | project subscriptionName=name, subscriptionId) on subscriptionId\n",
    "| project subscriptionName, resourceGroup, name, sku = properties.sku.name, reservedGB = properties.sku.capacityReservationLevel, storeDays = properties.retentionInDays, id = properties.customerId, resourceId = tolower(id)\n",
    "| order by subscriptionName asc\n",
    "\"\"\").set_index('id')"
   ]
  },
  {
   "cell_type": "code",
   "execution_count": null,
   "metadata": {},
   "outputs": [],
   "source": [
    "workspaces.style.hide_columns('resourceId')"
   ]
  },
  {
   "cell_type": "markdown",
   "metadata": {},
   "source": [
    "# Workspace Utilization\n",
    "\n",
    "Retrieves the workspace utilization metrics from Log Analytics metadata tables."
   ]
  },
  {
   "cell_type": "code",
   "execution_count": null,
   "metadata": {},
   "outputs": [],
   "source": [
    "today = datetime.today()\n",
    "yesterday = today - timedelta(days=1)\n",
    "yesterday_begin, yesterday_end = full_day_timespan(yesterday, end_midnight=True)\n",
    "\n",
    "thirtyday = today - timedelta(days=30)\n",
    "thirty_begin, thirty_end = full_day_timespan(thirtyday, yesterday, end_midnight=True)"
   ]
  },
  {
   "cell_type": "code",
   "execution_count": null,
   "metadata": {},
   "outputs": [],
   "source": [
    "def la_query(query):\n",
    "    return monitor_logs.query_dataframe(query, workspaces.index.to_list()).primary_result.set_index('id')\n",
    "\n",
    "df_lfd_volume = la_query(f\"\"\"\n",
    "Usage\n",
    "| where TimeGenerated > {serialize_to_kql(yesterday_begin)} and TimeGenerated <= {serialize_to_kql(yesterday_end)}  \n",
    "| where IsBillable == true\n",
    "| summarize lastFullDayGB = sum(Quantity) / 1000 by TenantId\n",
    "| project-rename id = TenantId\n",
    "\"\"\")"
   ]
  },
  {
   "cell_type": "code",
   "execution_count": null,
   "metadata": {},
   "outputs": [],
   "source": [
    "df_30d_volume = la_query(f\"\"\"\n",
    "Usage\n",
    "| where TimeGenerated > {serialize_to_kql(thirty_begin)} and TimeGenerated < {serialize_to_kql(thirty_end)}  \n",
    "| where IsBillable == true\n",
    "| summarize fullDayGB = sum(Quantity) / 1000 by TenantId, bin(TimeGenerated, 1d)\n",
    "| summarize medianDayGB = percentile(fullDayGB, 50), minDayGB = min(fullDayGB) by TenantId \n",
    "| project-rename id = TenantId\n",
    "\"\"\")"
   ]
  },
  {
   "cell_type": "code",
   "execution_count": null,
   "metadata": {},
   "outputs": [],
   "source": [
    "df_lfd_nodes = la_query(f\"\"\"\n",
    "Heartbeat\n",
    "| where TimeGenerated > {serialize_to_kql(yesterday_begin)} and TimeGenerated <= {serialize_to_kql(yesterday_end)}  \n",
    "| summarize by SourceComputerId, TenantId\n",
    "| summarize nodesReporting = count() by TenantId\n",
    "| project-rename id = TenantId \n",
    "\"\"\")"
   ]
  },
  {
   "cell_type": "markdown",
   "metadata": {},
   "source": [
    "# Workspace Cost\n",
    "\n",
    "Retrieve the workspace cost information from Azure Cost Management."
   ]
  },
  {
   "cell_type": "code",
   "execution_count": null,
   "metadata": {},
   "outputs": [],
   "source": [
    "workspace_resource_ids = workspaces.resourceId.to_list()"
   ]
  },
  {
   "cell_type": "code",
   "execution_count": null,
   "metadata": {},
   "outputs": [],
   "source": [
    "query_filter = create_basic_filter(\n",
    "    resource_ids=workspace_resource_ids\n",
    ")\n",
    "query = create_cost_query(\n",
    "    full_day_timespan(thirtyday, yesterday),\n",
    "    grouping=GroupByColumn(\"ResourceId\"),\n",
    "    filter=query_filter,\n",
    "    granularity=GranularityType.daily,\n",
    ")"
   ]
  },
  {
   "cell_type": "code",
   "execution_count": null,
   "metadata": {},
   "outputs": [],
   "source": [
    "cost_df = query_cost_dataframe(context.default_billing_account, query)"
   ]
  },
  {
   "cell_type": "code",
   "execution_count": null,
   "metadata": {},
   "outputs": [],
   "source": [
    "total_cost = cost_df.groupby('ResourceId').sum().Cost\n",
    "median_cost = cost_df.groupby('ResourceId').median().Cost\n",
    "lfd_cost = cost_df[cost_df.UsageDate == cost_df.UsageDate.max()].set_index('ResourceId').Cost\n",
    "cost_agg_df = pd.DataFrame({'thirty_day_cost': total_cost, 'thirty_day_median_cost': median_cost, 'last_full_day_cost': lfd_cost })"
   ]
  },
  {
   "cell_type": "markdown",
   "metadata": {},
   "source": [
    "# Dashboard\n",
    "\n",
    "Top cost workspaces."
   ]
  },
  {
   "cell_type": "code",
   "execution_count": null,
   "metadata": {},
   "outputs": [],
   "source": [
    "full = workspaces \\\n",
    "    .join([df_lfd_volume, df_30d_volume, df_lfd_nodes]) \\\n",
    "    .join(cost_agg_df, on='resourceId')\n",
    "full = full.assign(full_day_avg_cost=full.last_full_day_cost/full.nodesReporting)\n",
    "full = full.sort_values(['medianDayGB', 'thirty_day_cost'], ascending=[True,False], key=lambda x:pd.isna(x) if x.name == 'medianDayGB' else x)"
   ]
  },
  {
   "cell_type": "code",
   "execution_count": null,
   "metadata": {},
   "outputs": [],
   "source": [
    "def build_header_style(col_groups):\n",
    "    start = 0\n",
    "    styles = []\n",
    "    palette = { 'Config': '#f6f6f6', 'Thirty Day': '#eae9e9', 'Last Full Day': '#d4d7dd'}\n",
    "    for group in itertools.groupby(col_groups, lambda c:c[0]):\n",
    "        styles.append({'selector': f'.col_heading.level0.col{start}', 'props': [('background-color', palette[group[0]])]})\n",
    "        group_len = len(tuple(group[1]))\n",
    "        for j in range(group_len):\n",
    "            styles.append({'selector': f'.col_heading.level1.col{start + j}', 'props': [('background-color', palette[group[0]])]})\n",
    "        start += group_len\n",
    "    return styles\n",
    "\n",
    "fulls = full.copy().drop(columns='resourceId')\n",
    "fulls.columns = pd.MultiIndex.from_tuples([*itertools.product(['Config'], ['Subscription Name', 'Resource Group', 'Name', 'SKU', 'Reserved GB', 'Retention (days)']),  ('Last Full Day', 'Total GB'),  ('Thirty Day', 'Median GB'), ('Thirty Day', 'Min GB'), ('Last Full Day', 'Nodes Reporting'), ('Thirty Day', 'Total Cost'), ('Thirty Day', 'Median Cost'), ('Last Full Day', 'Total Cost'), ('Last Full Day', 'Avg Cost Per Node')])\n",
    "styler = fulls.style.hide_index() \\\n",
    "    .format('${:,.2f}', na_rep='N/A', subset=[x for x in fulls.columns if 'Cost' in x[1]]) \\\n",
    "    .format('{:,.1f}', na_rep='N/A', subset=[x for x in fulls.columns if  'GB' in x[1] and 'Config' != x[0]]) \\\n",
    "    .set_table_styles(build_header_style(fulls.columns))\n",
    "for column in [x for x in fulls.columns if 'Cost' in x[1] or 'GB' in x[1] and 'Config' != x[0]]:\n",
    "    styler.background_gradient(subset=[column])\n",
    "styler"
   ]
  },
  {
   "cell_type": "code",
   "execution_count": null,
   "metadata": {},
   "outputs": [],
   "source": []
  }
 ],
 "metadata": {
  "kernelspec": {
   "display_name": "azmeta-project",
   "language": "python",
   "name": "azmeta-project"
  },
  "language_info": {
   "codemirror_mode": {
    "name": "ipython",
    "version": 3
   },
   "file_extension": ".py",
   "mimetype": "text/x-python",
   "name": "python",
   "nbconvert_exporter": "python",
   "pygments_lexer": "ipython3",
   "version": "3.8.2"
  }
 },
 "nbformat": 4,
 "nbformat_minor": 4
}
