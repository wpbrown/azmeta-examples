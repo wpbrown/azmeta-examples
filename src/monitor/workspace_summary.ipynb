{
 "cells": [
  {
   "cell_type": "code",
   "execution_count": null,
   "metadata": {},
   "outputs": [],
   "source": [
    "from azmeta.access import resource_graph, monitor_logs, list_subscription_ids\n",
    "from azmeta.notebook.context import AzureCliContext\n",
    "import azmeta.notebook.interactive as azmi\n",
    "import pandas as pd\n",
    "import itertools"
   ]
  },
  {
   "cell_type": "markdown",
   "metadata": {},
   "source": [
    "# Parameters"
   ]
  },
  {
   "cell_type": "code",
   "execution_count": null,
   "metadata": {
    "tags": [
     "parameters"
    ]
   },
   "outputs": [],
   "source": [
    "resource_filter = None"
   ]
  },
  {
   "cell_type": "markdown",
   "metadata": {},
   "source": [
    "# Log Analytics Workspace Selection"
   ]
  },
  {
   "cell_type": "code",
   "execution_count": null,
   "metadata": {},
   "outputs": [],
   "source": [
    "context = AzureCliContext()\n",
    "all_subscription_ids = list_subscription_ids(context.subscriptions)\n",
    "workspaces = resource_graph.query_dataframe(all_subscription_ids, f\"\"\"\n",
    "Resources \n",
    "| where type == 'microsoft.operationalinsights/workspaces'\n",
    "| where {resource_filter if resource_filter else \"1 == 1\"}\n",
    "| join (ResourceContainers | where type == 'microsoft.resources/subscriptions' | project subscriptionName=name, subscriptionId) on subscriptionId\n",
    "| project subscriptionName, resourceGroup, name, sku = properties.sku.name, reservedGB = properties.sku.capacityReservationLevel, storeDays = properties.retentionInDays, id = properties.customerId, resourceId = tolower(id)\n",
    "| order by subscriptionName asc\n",
    "\"\"\").set_index('id')"
   ]
  },
  {
   "cell_type": "code",
   "execution_count": null,
   "metadata": {},
   "outputs": [],
   "source": [
    "workspaces.style.hide_columns('resourceId')"
   ]
  },
  {
   "cell_type": "markdown",
   "metadata": {},
   "source": [
    "# Pull Workspace Utilization"
   ]
  },
  {
   "cell_type": "code",
   "execution_count": null,
   "metadata": {},
   "outputs": [],
   "source": [
    "def la_query(query):\n",
    "    return monitor_logs.query_dataframe(query, workspaces.index.to_list()).primary_result.set_index('id')\n",
    "\n",
    "df_1d = la_query(\"\"\"\n",
    "Usage\n",
    "| where TimeGenerated > startofday(ago(1d)) and TimeGenerated <= startofday(now())\n",
    "| where IsBillable == true\n",
    "| summarize lastFullDayGB = sum(Quantity) / 1000 by TenantId\n",
    "| project-rename id = TenantId\n",
    "\"\"\")"
   ]
  },
  {
   "cell_type": "code",
   "execution_count": null,
   "metadata": {},
   "outputs": [],
   "source": [
    "df_30d = la_query(\"\"\"\n",
    "Usage\n",
    "| where TimeGenerated > startofday(ago(30d)) and TimeGenerated <= startofday(now())\n",
    "| where IsBillable == true\n",
    "| summarize fullDayGB = sum(Quantity) / 1000 by TenantId, bin(TimeGenerated, 1d)\n",
    "| summarize medianDayGB = percentile(fullDayGB, 50) by TenantId \n",
    "| project-rename id = TenantId\n",
    "\"\"\")"
   ]
  },
  {
   "cell_type": "code",
   "execution_count": null,
   "metadata": {},
   "outputs": [],
   "source": [
    "df_nodes = la_query(\"\"\"\n",
    "Heartbeat\n",
    "| where TimeGenerated > startofday(ago(1d)) and TimeGenerated <= startofday(now())\n",
    "| summarize by SourceComputerId, TenantId\n",
    "| summarize nodesReporting = count() by TenantId\n",
    "| project-rename id = TenantId \n",
    "\"\"\")"
   ]
  },
  {
   "cell_type": "markdown",
   "metadata": {},
   "source": [
    "# Pull Cost Data"
   ]
  },
  {
   "cell_type": "code",
   "execution_count": null,
   "metadata": {},
   "outputs": [],
   "source": [
    "azmi.connect_kqlmagic()\n",
    "workspace_resource_ids = workspaces.resourceId.to_list()"
   ]
  },
  {
   "cell_type": "code",
   "execution_count": null,
   "metadata": {},
   "outputs": [],
   "source": [
    "%%kql cost_data << -ecbp\n",
    "let period = toscalar(Usage\n",
    "| summarize max(BillingPeriodStartDate));\n",
    "Usage\n",
    "| where BillingPeriodStartDate == period and ResourceId in~ ({workspace_resource_ids}) \n",
    "| summarize Cost=sum(Cost) by ResourceId, Date \n",
    "| summarize medianDay=percentile(Cost, 50), billPeriod=sum(Cost) by ResourceId\n",
    "| project-rename resourceId=ResourceId;\n",
    "print period=period"
   ]
  },
  {
   "cell_type": "code",
   "execution_count": null,
   "metadata": {},
   "outputs": [],
   "source": [
    "df_cd = cost_data.to_dataframe()"
   ]
  },
  {
   "cell_type": "markdown",
   "metadata": {},
   "source": [
    "# Report"
   ]
  },
  {
   "cell_type": "code",
   "execution_count": null,
   "metadata": {},
   "outputs": [],
   "source": [
    "full = workspaces \\\n",
    "    .join([df_1d, df_30d, df_nodes]) \\\n",
    "    .merge(df_cd, on='resourceId')\n",
    "full = full.assign(periodAvgCostPerNode=full.billPeriod/full.nodesReporting) "
   ]
  },
  {
   "cell_type": "code",
   "execution_count": null,
   "metadata": {},
   "outputs": [],
   "source": [
    "print(\"Billing Period: \", cost_data.fork_result(1).to_dataframe().iat[0, 0].strftime(\"%B %Y\"))"
   ]
  },
  {
   "cell_type": "code",
   "execution_count": null,
   "metadata": {},
   "outputs": [],
   "source": [
    "full.style.hide_index().hide_columns('resourceId').format('${:,.2f}', na_rep='N/A', subset=pd.IndexSlice[:,'medianDay':'periodAvgCostPerNode'])"
   ]
  },
  {
   "cell_type": "code",
   "execution_count": null,
   "metadata": {},
   "outputs": [],
   "source": []
  }
 ],
 "metadata": {
  "kernelspec": {
   "display_name": "myproject",
   "language": "python",
   "name": "myproject"
  },
  "language_info": {
   "codemirror_mode": {
    "name": "ipython",
    "version": 3
   },
   "file_extension": ".py",
   "mimetype": "text/x-python",
   "name": "python",
   "nbconvert_exporter": "python",
   "pygments_lexer": "ipython3",
   "version": "3.7.5-final"
  }
 },
 "nbformat": 4,
 "nbformat_minor": 4
}