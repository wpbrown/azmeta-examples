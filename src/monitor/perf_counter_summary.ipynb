{
 "cells": [
  {
   "cell_type": "code",
   "execution_count": null,
   "metadata": {},
   "outputs": [],
   "source": [
    "from azmeta.access import resource_graph, list_subscription_ids\n",
    "from azmeta.notebook.utils import uncommon_substrings\n",
    "import azmeta.notebook.interactive as azmi\n",
    "import pandas as pd\n",
    "import itertools"
   ]
  },
  {
   "cell_type": "markdown",
   "metadata": {},
   "source": [
    "# Parameters"
   ]
  },
  {
   "cell_type": "code",
   "execution_count": null,
   "metadata": {
    "tags": [
     "parameters"
    ]
   },
   "outputs": [],
   "source": [
    "resource_filter = None"
   ]
  },
  {
   "cell_type": "markdown",
   "metadata": {},
   "source": [
    "# Log Analytics Workspace Selection"
   ]
  },
  {
   "cell_type": "code",
   "execution_count": null,
   "metadata": {},
   "outputs": [],
   "source": [
    "context = azmi.resource_context()\n",
    "all_subscription_ids = list_subscription_ids(context.subscriptions)\n",
    "workspaces = resource_graph.query_dataframe(all_subscription_ids, f\"\"\"\n",
    "Resources \n",
    "| where type == 'microsoft.operationalinsights/workspaces'\n",
    "| where {resource_filter if resource_filter else \"1 == 1\"}\n",
    "| project subscriptionId, resourceGroup, name\n",
    "\"\"\")\n",
    "workspaces = workspaces.assign(alias=uncommon_substrings(workspaces.name.to_list()))"
   ]
  },
  {
   "cell_type": "code",
   "execution_count": null,
   "metadata": {},
   "outputs": [],
   "source": [
    "workspaces"
   ]
  },
  {
   "cell_type": "markdown",
   "metadata": {},
   "source": [
    "# Pull Data Source Configuration"
   ]
  },
  {
   "cell_type": "code",
   "execution_count": null,
   "metadata": {},
   "outputs": [],
   "source": [
    "from azure.mgmt.loganalytics import LogAnalyticsManagementClient\n",
    "from azmeta.access.utils.sdk import default_sdk_client\n",
    "filter = \"kind eq 'windowsPerformanceCounter'\"\n",
    "queries = \\\n",
    "    (((w.alias, ds) for ds in default_sdk_client(LogAnalyticsManagementClient, subscription_id=w.subscriptionId).data_sources.list_by_workspace(w.resourceGroup, w.name, filter)) \n",
    "    for w in workspaces.itertuples())"
   ]
  },
  {
   "cell_type": "code",
   "execution_count": null,
   "metadata": {},
   "outputs": [],
   "source": [
    "data = [(ds[0], f\"{ds[1].properties['objectName']} | {ds[1].properties['counterName']} ({ds[1].properties['instanceName']})\", ds[1].properties['intervalSeconds']) for ds in itertools.chain.from_iterable(queries)]"
   ]
  },
  {
   "cell_type": "markdown",
   "metadata": {},
   "source": [
    "# Report"
   ]
  },
  {
   "cell_type": "code",
   "execution_count": null,
   "metadata": {},
   "outputs": [],
   "source": [
    "df = pd.DataFrame(data, columns=[\"alias\", \"counter\", \"interval\"])\n",
    "pt = pd.pivot_table(df, index=\"counter\", columns=\"alias\", values=\"interval\")"
   ]
  },
  {
   "cell_type": "code",
   "execution_count": null,
   "metadata": {},
   "outputs": [],
   "source": [
    "pt.style.background_gradient(vmin=10, vmax=600).highlight_null('black').format(\"{:g}\", na_rep='NA')"
   ]
  },
  {
   "cell_type": "code",
   "execution_count": null,
   "metadata": {},
   "outputs": [],
   "source": []
  }
 ],
 "metadata": {
  "kernelspec": {
   "display_name": "azmeta-project",
   "language": "python",
   "name": "azmeta-project"
  },
  "language_info": {
   "codemirror_mode": {
    "name": "ipython",
    "version": 3
   },
   "file_extension": ".py",
   "mimetype": "text/x-python",
   "name": "python",
   "nbconvert_exporter": "python",
   "pygments_lexer": "ipython3",
   "version": "3.8.2"
  }
 },
 "nbformat": 4,
 "nbformat_minor": 4
}
